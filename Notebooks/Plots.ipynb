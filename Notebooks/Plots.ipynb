{
 "cells": [
  {
   "cell_type": "markdown",
   "id": "f2beffd9-8083-400c-bef8-0ffc273392c4",
   "metadata": {},
   "source": [
    "list of simulations:\n",
    "- ```downramp_250MeV/030_downramp_bachelor1```   (Energy 250 MeV, normal divergence, downramp)\n",
    "- ```highdiv_250MeV/030_highdiv_bachelor1```     (Energy 250 MeV, high divergence (14.5 mrad))\n",
    "- ```square_250MeV/030_square_bachelor1```       (Energy 250 MeV, normal divergence, uniform y-distribution)\n",
    "- ```particles_250MeV/034_particles_bachelor1``` (Energy 250 MeV, small divergence)\n",
    "- ```particles_250MeV/035_particles_bachelor1``` (Energy 250 MeV, normal divergence)\n",
    "- ```particles_300MeV/040_particles_bachelor1``` (Energy 300 MeV, normal divergence)\n",
    "- ```particles_350MeV/042_particles_bachelor1``` (Energy 350 MeV, normal divergence)"
   ]
  },
  {
   "cell_type": "code",
   "execution_count": 1,
   "id": "42cb6898-8d42-4849-9105-8c2fb15c5b24",
   "metadata": {},
   "outputs": [],
   "source": [
    "%matplotlib inline\n",
    "import matplotlib\n",
    "from matplotlib.transforms import Bbox\n",
    "import matplotlib.patches as mpatches\n",
    "import matplotlib.pyplot as plt\n",
    "matplotlib.use(\"pgf\")\n",
    "matplotlib.rcParams.update({\n",
    "    \"pgf.texsystem\": \"pdflatex\",\n",
    "#    'font.family': 'sans-serif',\n",
    "    'text.usetex': True,\n",
    "    'pgf.rcfonts': False,\n",
    "})\n",
    "\n",
    "import numpy as np\n",
    "from scipy import constants\n",
    "\n",
    "from scipy import stats\n",
    "from time import time"
   ]
  },
  {
   "cell_type": "markdown",
   "id": "aa573c17-060e-4025-bc73-06deffb35b1b",
   "metadata": {},
   "source": [
    "## Electron density"
   ]
  },
  {
   "cell_type": "code",
   "execution_count": null,
   "id": "617df489-3324-4b3f-90e6-c135a83f3d30",
   "metadata": {},
   "outputs": [],
   "source": [
    "BASE_DENSITY_SI = 4e24\n",
    "DELTA_T_SI = 1.706e-16/1.28631\n",
    "CELL_WIDTH_SI = 0.5 * 0.1772e-6\n",
    "start_pos = (10191 * 1.02) * DELTA_T_SI * constants.c\n",
    "end_pos = (80000) * DELTA_T_SI * constants.c - start_pos\n",
    "sigma = 200e-7\n",
    "peak_start = 6 * sigma\n",
    "peak_end = peak_start + end_pos\n",
    "\n",
    "\n",
    "x_start = 0 * DELTA_T_SI * constants.c\n",
    "#x_end = 44000 * DELTA_T_SI * constants.c\n",
    "x_end = 110000 * DELTA_T_SI * constants.c\n",
    "x = np.linspace(x_start, x_end, 30000) \n",
    "y = x - start_pos - 2048 * CELL_WIDTH_SI\n",
    "\n",
    "density1 = np.zeros_like(y[y<=0])*BASE_DENSITY_SI*1e-6\n",
    "density2 = np.exp(-((y[(y>0)&(y<=peak_start)] - peak_start) / sigma) ** 6)*BASE_DENSITY_SI*1e-6\n",
    "density3 = np.ones_like(y[(y>peak_start)&(y<=end_pos)])*BASE_DENSITY_SI*1e-6\n",
    "density4 = np.exp(-((y[(y>end_pos)&(y<=peak_end)] - end_pos) / sigma) ** 6)*BASE_DENSITY_SI*1e-6\n",
    "density5 = np.zeros_like(y[y>peak_end])*BASE_DENSITY_SI*1e-6"
   ]
  },
  {
   "cell_type": "code",
   "execution_count": null,
   "id": "67145a72-deff-4cbb-8b28-ecade847bd51",
   "metadata": {},
   "outputs": [],
   "source": [
    "fig = plt.figure(figsize=(6.4, 3.5))\n",
    "ax0, ax1 = fig.subplots(1, 2, sharey=True)\n",
    "\n",
    "ax0.plot((x[y<=0]-start_pos-2048*CELL_WIDTH_SI)*1e3, density1, label=\"vacuum\", c='tab:blue')\n",
    "ax0.plot((x[(y>0)&(y<=peak_start)]-start_pos-2048*CELL_WIDTH_SI)*1e3, density2, label=\"Super Gauss \", c='tab:orange')\n",
    "ax0.plot(((x[(y>peak_start)&(y<=end_pos)])[:8000]-start_pos-2048*CELL_WIDTH_SI)*1e3, density3[:8000], label=\"plateau\", c='tab:green')\n",
    "ax0.set_xlabel(\"$y \\, \\mathrm{[mm]}$\")\n",
    "ax0.set_ylabel(\"$\\\\rho \\, \\mathrm{[{cm}^{-3}]}$\")\n",
    "ax0.set_title(\"a)\")\n",
    "\n",
    "ax1.plot((x[y<=0]-start_pos-2048*CELL_WIDTH_SI)*1e3, density1, label=\"_vacuum\", c='tab:blue')\n",
    "ax1.plot((x[(y>0)&(y<=peak_start)]-start_pos-2048*CELL_WIDTH_SI)*1e3, density2, label=\"_Super Gauss \", c='tab:orange')\n",
    "ax1.plot((x[(y>peak_start)&(y<=end_pos)]-start_pos-2048*CELL_WIDTH_SI)*1e3, density3, label=\"_plateau\", c='tab:green')\n",
    "ax1.plot((x[(y>end_pos)&(y<=peak_end)]-start_pos-2048*CELL_WIDTH_SI)*1e3, density4, c='tab:orange')\n",
    "ax1.plot((x[y>peak_end]-start_pos-2048*CELL_WIDTH_SI)*1e3, density5, c='tab:blue')\n",
    "ax1.set_title(\"b)\")\n",
    "\n",
    "ax1.set_xlabel(\"$y \\, \\mathrm{[mm]}$\")\n",
    "fig.subplots_adjust(top=0.75)\n",
    "fig.legend()\n",
    "#plt.show()\n",
    "#plt.savefig(fname=\"/home/wrobel45/Bachlor-Thesis/images/1temp.png\", facecolor='white', dpi=100)\n",
    "plt.savefig(fname=\"../images/e_density.pgf\")"
   ]
  },
  {
   "cell_type": "code",
   "execution_count": null,
   "id": "f071f909-a3f2-4b05-9682-5331c9aeb164",
   "metadata": {},
   "outputs": [],
   "source": [
    "peak_start*1e3\n",
    "test = np.linspace(0, 10, 11)\n",
    "test[0:4] = 3\n",
    "print(test)"
   ]
  },
  {
   "cell_type": "code",
   "execution_count": null,
   "id": "1f741360-2ed9-496e-9e75-31f8d7e612d3",
   "metadata": {},
   "outputs": [],
   "source": [
    "2048/8 * 7"
   ]
  },
  {
   "cell_type": "code",
   "execution_count": null,
   "id": "dd817973-5336-47b8-acf7-459abae9ac22",
   "metadata": {},
   "outputs": [],
   "source": [
    "plt.plot(x*1e3, density)\n",
    "plt.xlabel(\"$y \\, \\mathrm{[\\mu m]}$\")\n",
    "plt.ylabel(\"$density \\, \\mathrm{[m^{-3}]}$\")\n",
    "plt.title(\"electron density\")\n",
    "plt.show()"
   ]
  },
  {
   "cell_type": "code",
   "execution_count": null,
   "id": "a6674e25-6e37-46d7-aa7a-ab182e6474f5",
   "metadata": {},
   "outputs": [],
   "source": [
    "1.706e-16/1.28631"
   ]
  },
  {
   "cell_type": "code",
   "execution_count": null,
   "id": "47d53020-c1f3-45eb-b7a7-75adf985ab63",
   "metadata": {},
   "outputs": [],
   "source": [
    "constants.c**2 * constants.electron_mass / constants.e *1e-6"
   ]
  },
  {
   "cell_type": "code",
   "execution_count": null,
   "id": "6889aaee-42cf-405a-994b-b67065fb4b50",
   "metadata": {},
   "outputs": [],
   "source": [
    "2*np.sqrt(2*np.log(2))"
   ]
  },
  {
   "cell_type": "code",
   "execution_count": null,
   "id": "6f60d2ef-4d95-486f-9720-aaf666465779",
   "metadata": {},
   "outputs": [],
   "source": [
    "Q = 400e-12\n",
    "mean_weight = 5000\n",
    "50000 * Q / constants.elementary_charge / mean_weight"
   ]
  },
  {
   "cell_type": "code",
   "execution_count": null,
   "id": "7c9ada0f-1d0f-4796-b0ec-99940de36d69",
   "metadata": {},
   "outputs": [],
   "source": [
    "M = 4"
   ]
  },
  {
   "cell_type": "code",
   "execution_count": null,
   "id": "c175e69f-449a-4f65-934b-5e955ba5a42f",
   "metadata": {},
   "outputs": [],
   "source": [
    "g = 16**(1-M) / M * (np.math.factorial(2*M - 1) / np.math.factorial(M - 1)**2)**2\n",
    "print(\"{:1.7e}\".format(g))\n",
    "\n",
    "for l in np.arange(1.5, M-0.4):\n",
    "    g = -1 * (l-1)**2 / l**2 * (2*M + 1 - 2*l) / (2*M - 1 + 2*l) * g\n",
    "    print(\"{:1.7e}\".format(g))"
   ]
  },
  {
   "cell_type": "code",
   "execution_count": 2,
   "id": "e0174315-f506-4ef8-b36c-944d2f5c2082",
   "metadata": {},
   "outputs": [],
   "source": [
    "plt.figure(figsize=(6.4,4.5))\n",
    "\n",
    "\n",
    "ax = plt.subplot()\n",
    "\n",
    "plt.xlim(0, 10)\n",
    "plt.ylim(0,10)\n",
    "\n",
    "plt.axis('off')\n",
    "\n",
    "box_hight = 3.5\n",
    "box_length = box_hight\n",
    "\n",
    "delta_x = 0.5\n",
    "delta_y = delta_x\n",
    "\n",
    "fancybox = mpatches.FancyBboxPatch(\n",
    "    [delta_x, delta_x], box_length, box_hight,\n",
    "    boxstyle='round', facecolor='C0', alpha=0.5)\n",
    "\n",
    "ax.add_patch(fancybox)\n",
    "\n",
    "\n",
    "fancybox = mpatches.FancyBboxPatch(\n",
    "    [10.0 - box_length - delta_x, 10.0 - box_hight - delta_y], box_length, box_hight,\n",
    "    boxstyle='round', facecolor='C1', alpha=0.5, lw=2, ec=\"k\")\n",
    "\n",
    "ax.add_patch(fancybox)\n",
    "\n",
    "fancybox = mpatches.FancyBboxPatch(\n",
    "    [delta_x, 10.0 - box_hight - delta_y], box_length, box_hight,\n",
    "    boxstyle='round', facecolor='C2', alpha=0.5, lw=2, ec=\"k\")\n",
    "\n",
    "ax.add_patch(fancybox)\n",
    "\n",
    "fancybox = mpatches.FancyBboxPatch(\n",
    "    [10.0 - box_length - delta_x, delta_y], box_length, box_hight,\n",
    "    boxstyle='round', facecolor='C3', alpha=0.5, lw=2, ec=\"k\")\n",
    "\n",
    "ax.add_patch(fancybox)\n",
    "\n",
    "\n",
    "#fancyarrow = mpatches.FancyArrowPatch(posA=[7.5, 6.0], posB=[7.5, 4.0], arrowstyle=\"simple\", lw=6)\n",
    "#ax.add_patch(fancyarrow)\n",
    "\n",
    "\n",
    "ax.annotate(\"\", (7.25, 3.5),\n",
    "                (7.25, 6.5),\n",
    "                arrowprops=dict(headwidth = 14, fc=\"k\", ec=\"k\", lw=1.2, connectionstyle=\"arc3,rad=-0.2\", shrinkA=1, shrinkB=20))\n",
    "\n",
    "\n",
    "\n",
    "ax.annotate(\"\", (2.75, 6.5),\n",
    "                (2.75, 3.5),\n",
    "                arrowprops=dict(headwidth = 14, fc=\"k\", ec=\"k\", lw=1.2, connectionstyle=\"arc3,rad=-0.2\", shrinkA=1, shrinkB=20))\n",
    "\n",
    "\n",
    "ax.annotate(\"\", (4.0, 2.5),\n",
    "                (6.0, 2.5),\n",
    "                arrowprops=dict(headwidth = 14, fc=\"k\", ec=\"k\", lw=1.2, connectionstyle=\"arc3,rad=-0.2\", shrinkA=1, shrinkB=20))\n",
    "                #arrowprops=dict(arrowstyle=\"fancy\",\n",
    "                #                shrinkA=2,\n",
    "                #                shrinkB=2,\n",
    "                #                fc=\"k\", ec=\"k\", lw=2, \n",
    "                #                connectionstyle=\"arc3,rad=-0.2\",\n",
    "                #                ))\n",
    "\n",
    "\n",
    "\n",
    "t = ax.annotate(\"\", (6.0, 7.5),\n",
    "                (4.0, 7.5),\n",
    "                arrowprops=dict(headwidth = 14, fc=\"k\", ec=\"k\", lw=1.2, connectionstyle=\"arc3,rad=-0.2\", shrinkA=1, shrinkB=20))\n",
    "\n",
    "    \n",
    "\n",
    "\n",
    "ax.text(2.25, 8.75, \"Force Calculation\", fontsize=18, fontweight='bold',\n",
    "       verticalalignment='center', horizontalalignment='center')\n",
    "\n",
    "ax.text(7.75, 8.75, \"Particle Push\", fontsize=18, fontweight='bold',\n",
    "       verticalalignment='center', horizontalalignment='center')\n",
    "\n",
    "ax.text(7.75, 3.0, \"Current Deposition\", fontsize=18, fontweight='bold',\n",
    "       verticalalignment='center', horizontalalignment='center')\n",
    "\n",
    "ax.text(2.25, 3.0, \"Field Evolution\", fontsize=18, fontweight='bold',\n",
    "       verticalalignment='center', horizontalalignment='center')\n",
    "\n",
    "\n",
    "ax.text(2.25, 7.5, r\"$\\vec{F} = q \\cdot \\left( \\vec{E} + \\vec{v} \\times \\vec{B} \\right)$\",\n",
    "       verticalalignment='center', horizontalalignment='center', fontsize=14)\n",
    "\n",
    "ax.text(7.75, 7.5, r\"$\\vec{p}_{i+1} = \\vec{p}_{i} + \\Delta t \\cdot \\vec{F} $\",\n",
    "       verticalalignment='center', horizontalalignment='center', fontsize=14)\n",
    "\n",
    "ax.text(7.75, 1.9, r\"$\\vec J = \\int q \\cdot \\vec{v} \\cdot f(\\vec{r}, \\vec{v}) \\mathrm{d} V$\",\n",
    "       verticalalignment='center', horizontalalignment='center', fontsize=14)\n",
    "\n",
    "ax.text(2.25 , 1.0, r\"$ \\frac{\\partial \\vec{E}}{\\partial t}= c^2 \\left( - \\mu_0 \\vec{j} + \\vec{\\nabla} \\times \\vec{B} \\right)$\",\n",
    "       verticalalignment='center', horizontalalignment='center', fontsize=14)\n",
    "\n",
    "ax.text(2.25 , 1.9, r\"$ \\frac{\\partial \\vec{B}}{\\partial t}= - \\vec{\\nabla} \\times \\vec{E} $\",\n",
    "       verticalalignment='center', horizontalalignment='center', fontsize=14)\n",
    "\n",
    "plt.tight_layout()\n",
    "plt.savefig(\"../images/cycle.pgf\")\n",
    "#plt.show()"
   ]
  },
  {
   "cell_type": "code",
   "execution_count": null,
   "id": "bae1b421-62d9-4930-ad28-183a7f1e17e9",
   "metadata": {},
   "outputs": [],
   "source": []
  }
 ],
 "metadata": {
  "kernelspec": {
   "display_name": "Python 3 (ipykernel)",
   "language": "python",
   "name": "python3"
  },
  "language_info": {
   "codemirror_mode": {
    "name": "ipython",
    "version": 3
   },
   "file_extension": ".py",
   "mimetype": "text/x-python",
   "name": "python",
   "nbconvert_exporter": "python",
   "pygments_lexer": "ipython3",
   "version": "3.9.12"
  }
 },
 "nbformat": 4,
 "nbformat_minor": 5
}
