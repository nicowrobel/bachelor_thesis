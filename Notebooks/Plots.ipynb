{
 "cells": [
  {
   "cell_type": "markdown",
   "id": "f2beffd9-8083-400c-bef8-0ffc273392c4",
   "metadata": {},
   "source": [
    "list of simulations:\n",
    "- ```particles_250MeV/034_particles_bachelor1``` (Energy 250 MeV, no downramp, small divergence)\n",
    "- ```particles_250MeV/035_particles_bachelor1``` (Energy 250 MeV, no downramp, normal divergence)\n",
    "- ```downramp_250MeV/030_downramp_bachelor1``` (Energy 250 MeV, downramp, normal divergence)"
   ]
  },
  {
   "cell_type": "code",
   "execution_count": null,
   "id": "42cb6898-8d42-4849-9105-8c2fb15c5b24",
   "metadata": {},
   "outputs": [],
   "source": [
    "%matplotlib inline\n",
    "import matplotlib\n",
    "import matplotlib.pyplot as plt\n",
    "#matplotlib.use(\"pgf\")\n",
    "matplotlib.rcParams.update({\n",
    "    \"pgf.texsystem\": \"pdflatex\",\n",
    "    'font.family': 'sans-serif',\n",
    "    'text.usetex': True,\n",
    "    'pgf.rcfonts': False,\n",
    "})\n",
    "\n",
    "import numpy as np\n",
    "from scipy import constants\n",
    "\n",
    "from scipy import stats\n",
    "from time import time"
   ]
  },
  {
   "cell_type": "markdown",
   "id": "aa573c17-060e-4025-bc73-06deffb35b1b",
   "metadata": {},
   "source": [
    "## Electron density"
   ]
  },
  {
   "cell_type": "code",
   "execution_count": null,
   "id": "617df489-3324-4b3f-90e6-c135a83f3d30",
   "metadata": {},
   "outputs": [],
   "source": [
    "BASE_DENSITY_SI = 4e24\n",
    "DELTA_T_SI = 1.706e-16/1.28631\n",
    "CELL_WIDTH_SI = 0.5 * 0.1772e-6\n",
    "start_pos = (10191 * 1.02) * DELTA_T_SI * constants.c\n",
    "sigma = 200e-7\n",
    "peak_start = 6 * sigma\n",
    "\n",
    "\n",
    "x_start = 0 * DELTA_T_SI * constants.c\n",
    "x_end = 30000 * DELTA_T_SI * constants.c\n",
    "x = np.linspace(x_start, x_end, 10000)\n",
    "y = x - start_pos - 2048 * CELL_WIDTH_SI\n",
    "\n",
    "density1 = np.zeros_like(y[y<=0])*BASE_DENSITY_SI*1e-6\n",
    "density2 = np.exp(-((y[(y>0)&(y<=peak_start)] - peak_start) / sigma) ** 6)*BASE_DENSITY_SI*1e-6\n",
    "density3 = np.ones_like(y[y>peak_start])*BASE_DENSITY_SI*1e-6"
   ]
  },
  {
   "cell_type": "code",
   "execution_count": null,
   "id": "67145a72-deff-4cbb-8b28-ecade847bd51",
   "metadata": {},
   "outputs": [],
   "source": [
    "plt.plot(x[y<=0]*1e3, density1, label=\"density = 0\")\n",
    "plt.plot(x[(y>0)&(y<=peak_start)]*1e3, density2, label=\"Super Gauss\")\n",
    "plt.plot(x[y>peak_start]*1e3, density3, label=\"plateau\")\n",
    "\n",
    "plt.xlabel(\"$y \\, \\mathrm{[\\mu m]}$\")\n",
    "plt.ylabel(\"$density \\, \\mathrm{[{cm}^{-3}]}$\")\n",
    "plt.title(\"electron density\")\n",
    "plt.legend()\n",
    "plt.show()\n",
    "#plt.savefig(fname=\"../images/e_density.pgf\")"
   ]
  },
  {
   "cell_type": "code",
   "execution_count": null,
   "id": "f071f909-a3f2-4b05-9682-5331c9aeb164",
   "metadata": {},
   "outputs": [],
   "source": [
    "peak_start*1e3\n",
    "test = np.linspace(0, 10, 11)\n",
    "test[0:4] = 3\n",
    "print(test)"
   ]
  },
  {
   "cell_type": "code",
   "execution_count": null,
   "id": "1f741360-2ed9-496e-9e75-31f8d7e612d3",
   "metadata": {},
   "outputs": [],
   "source": [
    "2048/8 * 7"
   ]
  },
  {
   "cell_type": "code",
   "execution_count": null,
   "id": "dd817973-5336-47b8-acf7-459abae9ac22",
   "metadata": {},
   "outputs": [],
   "source": [
    "plt.plot(x*1e3, density)\n",
    "plt.xlabel(\"$y \\, \\mathrm{[\\mu m]}$\")\n",
    "plt.ylabel(\"$density \\, \\mathrm{[m^{-3}]}$\")\n",
    "plt.title(\"electron density\")\n",
    "plt.show()"
   ]
  },
  {
   "cell_type": "code",
   "execution_count": null,
   "id": "a6674e25-6e37-46d7-aa7a-ab182e6474f5",
   "metadata": {},
   "outputs": [],
   "source": [
    "1.706e-16/1.28631"
   ]
  },
  {
   "cell_type": "code",
   "execution_count": null,
   "id": "47d53020-c1f3-45eb-b7a7-75adf985ab63",
   "metadata": {},
   "outputs": [],
   "source": [
    "constants.c**2 * constants.electron_mass / constants.e *1e-6"
   ]
  },
  {
   "cell_type": "code",
   "execution_count": null,
   "id": "6889aaee-42cf-405a-994b-b67065fb4b50",
   "metadata": {},
   "outputs": [],
   "source": [
    "2*np.sqrt(2*np.log(2))"
   ]
  },
  {
   "cell_type": "code",
   "execution_count": null,
   "id": "6f60d2ef-4d95-486f-9720-aaf666465779",
   "metadata": {},
   "outputs": [],
   "source": [
    "Q = 400e-12\n",
    "mean_weight = 5000\n",
    "50000 * Q / constants.elementary_charge / mean_weight"
   ]
  },
  {
   "cell_type": "code",
   "execution_count": null,
   "id": "fa261bf6-c1df-41e8-b972-9fb70c73d1cd",
   "metadata": {},
   "outputs": [],
   "source": [
    "print(1.153496e11 *  4.18116 * 1.28631 /1e11)"
   ]
  },
  {
   "cell_type": "code",
   "execution_count": null,
   "id": "17c9337d-ce8a-4435-99c7-d79820684a5b",
   "metadata": {},
   "outputs": [],
   "source": [
    "1.706e-16 / 1.28631*10191"
   ]
  },
  {
   "cell_type": "code",
   "execution_count": null,
   "id": "5e0acbf8-8729-4e14-ba16-9eb50b7745bc",
   "metadata": {},
   "outputs": [],
   "source": []
  }
 ],
 "metadata": {
  "kernelspec": {
   "display_name": "Python 3 (ipykernel)",
   "language": "python",
   "name": "python3"
  },
  "language_info": {
   "codemirror_mode": {
    "name": "ipython",
    "version": 3
   },
   "file_extension": ".py",
   "mimetype": "text/x-python",
   "name": "python",
   "nbconvert_exporter": "python",
   "pygments_lexer": "ipython3",
   "version": "3.9.12"
  }
 },
 "nbformat": 4,
 "nbformat_minor": 5
}
